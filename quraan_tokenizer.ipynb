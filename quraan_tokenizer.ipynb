{
 "cells": [
  {
   "cell_type": "code",
   "id": "initial_id",
   "metadata": {
    "collapsed": true,
    "ExecuteTime": {
     "end_time": "2025-05-12T09:36:57.521171Z",
     "start_time": "2025-05-12T09:36:57.174108Z"
    }
   },
   "source": [
    "import regex as re\n",
    "import json\n",
    "import os\n",
    "from typing import Pattern\n",
    "\n",
    "from tokenizer import BPETokenizerV3\n",
    "from quraan_utils import get_quraan_uthmani, get_raw_quraan"
   ],
   "outputs": [],
   "execution_count": 1
  },
  {
   "metadata": {},
   "cell_type": "markdown",
   "source": "# Reading and Processing Quraan",
   "id": "f28a39e6b724713b"
  },
  {
   "metadata": {
    "ExecuteTime": {
     "end_time": "2025-05-12T09:36:59.385191Z",
     "start_time": "2025-05-12T09:36:59.142562Z"
    }
   },
   "cell_type": "code",
   "source": [
    "filename = \"artifacts/quraan.json\"\n",
    "if os.path.isfile(filename):\n",
    "    with open(filename) as f:\n",
    "        surahs = json.loads(f.read())['surahs']\n",
    "else:\n",
    "    surahs = get_quraan_uthmani(filename)['surahs']"
   ],
   "id": "58673e007f6d6a9c",
   "outputs": [],
   "execution_count": 2
  },
  {
   "metadata": {},
   "cell_type": "markdown",
   "source": [
    "## Understanding Quranic Encodings\n",
    "\n",
    "Reading Arabic [encodings](https://www.unicode.org/charts/nameslist/n_0600.html).\n",
    "We will first try to remove unnecessary characters like:\n",
    "\n",
    "- Honorifics\n",
    "    - 0610\t ◌ؐ \tArabic Sign Sallallahou Alayhe Wassallam\n",
    " \t \t•\trepresents sallallahu alayhe wasallam \"may God's peace and blessings be upon him\"\n",
    "    - 0611\t ◌ؑ \tArabic Sign Alayhe Assallam\n",
    " \t \t•\trepresents alayhe assalam \"upon him be peace\"\n",
    " \t \t→\tFD47 ﵇ arabic ligature alayhi as-salaam\n",
    "    - 0612\t ◌ؒ \tArabic Sign Rahmatullah Alayhe\n",
    " \t \t•\trepresents rahmatullah alayhe \"may God have mercy upon him\"\n",
    " \t \t→\tFD40 ﵀ arabic ligature rahimahu allaah\n",
    "    - 0613\t ◌ؓ \tArabic Sign Radi Allahou Anhu\n",
    " \t \t•\trepresents radi allahu 'anhu \"may God be pleased with him\"\n",
    " \t \t→\tFD41 ﵁ arabic ligature radi allaahu anh\n",
    "    - 0614\t ◌ؔ \tArabic Sign Takhallus\n",
    " \t \t•\tsign placed over the name or nom-de-plume of a poet, or in some writings used to mark all proper names\n",
    "- Extended Arabic mark:\n",
    "    - 0616\t ◌ؖ \tArabic Small High Ligature Alef With Lam With Yeh\n",
    " \t \t※\tARABIC SMALL HIGH LIGATURE ALEF WITH YEH BARREE\n",
    " \t \t•\tearly Persian\n",
    "- Quaranic annotation sign:\n",
    "    - 06E5\t ‎ۥ‎ \tArabic Small Waw\n",
    " \t \t→\t08D3 ◌࣓ arabic small low waw\n",
    " \t \t→\t08F3 ◌ࣳ arabic small high waw\n",
    "    - 0617\t ◌ؗ \tArabic Small High Zain\n",
    "    - 0618\t ◌ؘ \tArabic Small Fatha\n",
    "    \t \t•\tshould not be confused with 064E ◌َ FATHA\n",
    "    - 0619\t ◌ؙ \tArabic Small Damma\n",
    " \t \t•\tshould not be confused with 064F ◌ُ DAMMA\n",
    "    - 061A\t ◌ؚ \tArabic Small Kasra\n",
    " \t \t•\tshould not be confused with 0650 ◌ِ KASRA\n",
    "    - 06DC\t ◌ۜ \tArabic Small High Seen\n",
    "    -  06DE\t ۞ \tArabic Start Of Rub El Hizb\n",
    " \t \t•\tindicates boundaries of parts of sections\n",
    " \t \t•\ttypically depicted as an eight-sided symbol, which may or may not appear starlike\n",
    "    - 06DF\t ◌۟ \tArabic Small High Rounded Zero\n",
    " \t \t•\tsmaller than the typical circular shape used for 0652 ◌ْ\n",
    "    - 06E0\t ◌۠ \tArabic Small High Upright Rectangular Zero\n",
    " \t \t•\tthe term \"rectangular zero\" is a translation of the Arabic name of this sign\n",
    "    - 06E1\t ◌ۡ \tArabic Small High Dotless Head Of Khah\n",
    " \t \t=\tArabic jazm\n",
    " \t \t•\tpresentation form of 0652 ◌ْ, using font technology to select the variant is preferred\n",
    " \t \t•\tused in some Qurans to mark absence of a vowel\n",
    " \t \t→\t0652 ◌ْ arabic sukun\n",
    "    - 06E2\t ◌ۢ \tArabic Small High Meem Isolated Form\n",
    "    - 06E3\t ◌ۣ \tArabic Small Low Seen\n",
    "    - 06E4\t ◌ۤ \tArabic Small High Madda\n",
    " \t \t•\ttypically used with 06E5 ‎ۥ‎, 06E6 ‎ۦ‎, 06E7 ◌ۧ, and 08F3 ◌ࣳ\n",
    "    - 06E5\t ‎ۥ‎ \tArabic Small Waw\n",
    " \t \t→\t08D3 ◌࣓ arabic small low waw\n",
    " \t \t→\t08F3 ◌ࣳ arabic small high waw\n",
    "    - 06E6\t ‎ۦ‎ \tArabic Small Yeh\n",
    "    - 06E7\t ◌ۧ \tArabic Small High Yeh\n",
    "    - 06E8\t ◌ۨ \tArabic Small High Noon\n",
    "    - 06E9\t ۩ \tArabic Place Of Sajdah\n",
    " \t \t•\tthere is a range of acceptable glyphs for this character\n",
    "    - 06EA\t ◌۪ \tArabic Empty Centre Low Stop\n",
    "    - 06EB\t ◌۫ \tArabic Empty Centre High Stop\n",
    "    - 06EC\t ◌۬ \tArabic Rounded High Stop With Filled Centre\n",
    " \t \t•\talso used in Quranic text in African and other orthographies to represent wasla, ikhtilas, etc.\n",
    "    - 06ED\t ◌ۭ \tArabic Small Low Meem\n",
    "\n",
    "Then, we will split following GPT4 pattern but including:\n",
    "\n",
    "- Arabic words with all recitations.\n",
    "- 06D6\t ◌ۖ \tArabic Small High Ligature Sad With Lam With Alef Maksura\n",
    "- 06D7\t ◌ۗ \tArabic Small High Ligature Qaf With Lam With Alef Maksura\n",
    "- 06D8\t ◌ۘ \tArabic Small High Meem Initial Form\n",
    "- 06D9\t ◌ۙ \tArabic Small High Lam Alef\n",
    "- 06DA\t ◌ۚ \tArabic Small High Jeem\n",
    "- 06DB\t ◌ۛ \tArabic Small High Three Dots"
   ],
   "id": "98aa0559dd6c160e"
  },
  {
   "metadata": {
    "ExecuteTime": {
     "end_time": "2025-05-12T09:36:59.462192Z",
     "start_time": "2025-05-12T09:36:59.438197Z"
    }
   },
   "cell_type": "code",
   "source": [
    "def compress_regex(verbose_pattern: str) -> str:\n",
    "    \"\"\"Remove whitespace and comments from a VERBOSE/expanded regex pattern,\n",
    "    so you can compile it without re.VERBOSE\"\"\"\n",
    "    out = []\n",
    "    in_char_class = False\n",
    "    escaped       = False\n",
    "    i             = 0\n",
    "    L             = len(verbose_pattern)\n",
    "\n",
    "    while i < L:\n",
    "        c = verbose_pattern[i]\n",
    "        if escaped:\n",
    "            # always emit an escaped char literally\n",
    "            out.append(c)\n",
    "            escaped = False\n",
    "\n",
    "        else:\n",
    "            if c == \"\\\\\":\n",
    "                # start escape sequence\n",
    "                out.append(c)\n",
    "                escaped = True\n",
    "\n",
    "            elif c == \"[\":\n",
    "                out.append(c)\n",
    "                in_char_class = True\n",
    "\n",
    "            elif c == \"]\" and in_char_class:\n",
    "                out.append(c)\n",
    "                in_char_class = False\n",
    "\n",
    "            elif not in_char_class and c == \"#\":\n",
    "                # skip comment until end of line\n",
    "                while i < L and verbose_pattern[i] != \"\\n\":\n",
    "                    i += 1\n",
    "                # newline itself will be handled next iteration (and stripped)\n",
    "\n",
    "            elif not in_char_class and c in \" \\t\\n\\r\\f\\v\":\n",
    "                # strip any unescaped, out-of-class whitespace\n",
    "                pass\n",
    "\n",
    "            else:\n",
    "                # any other character is significant\n",
    "                out.append(c)\n",
    "\n",
    "        i += 1\n",
    "\n",
    "    return \"\".join(out)\n",
    "\n",
    "\n",
    "def compile_from_verbose(verbose_pattern: str) -> Pattern:\n",
    "    \"\"\"Compress and compile without re.VERBOSE.\"\"\"\n",
    "    packed = compress_regex(verbose_pattern)\n",
    "    return re.compile(packed)"
   ],
   "id": "b43e8f027606bee1",
   "outputs": [],
   "execution_count": 3
  },
  {
   "metadata": {
    "ExecuteTime": {
     "end_time": "2025-05-12T09:37:07.256912Z",
     "start_time": "2025-05-12T09:37:07.233899Z"
    }
   },
   "cell_type": "code",
   "source": [
    "ayah = surahs[3]['ayahs'][0]['text']\n",
    "\n",
    "# 1) drop Arabic Extended-A entirely\n",
    "#    (U+08D3–U+08E1 plus U+08F0)\n",
    "text = re.sub(r'[\\u08D3-\\u08E1\\u08F0\\u0610-\\u061A\\u06DC-\\u06ED]', '', ayah)\n",
    "\n",
    "# 2) compile an extended‐BPE‐style split‐pattern\n",
    "quraan_pattern = r\"\"\"\n",
    "    # — clitics like ’s, ’d, etc.\n",
    "    '(?i:(?:s|d|m|t)|ll|ve|re)\n",
    "\n",
    "  | # — an entire “word”  (letters + ANY number of diacritics)\n",
    "    [^\\r\\n\\p{L}\\p{N}]?                      # optional leading non-letter (e.g. space or “”)\n",
    "    (?:\n",
    "      \\p{L}                                #   a base letter\n",
    "      (?:[\\u06D6-\\u06DB\\u06DD\\u064B-\\u065F\\u06D6-\\u06ED\\u0670])*\n",
    "                                           #   zero-or-more of:\n",
    "                                           #     • Qur’ānic signs (\\u06D6-\\u06DB\\u06DD)\n",
    "                                           #     • all standard Arabic diacritics U+064B–065F\n",
    "                                           #     • superscript‐Alef U+0670\n",
    "    )+                                     # one-or-more of (letter+diacritics)\n",
    "\n",
    "  | # — small numbers\n",
    "    \\p{N}{1,3}\n",
    "\n",
    "  | # — punctuation (one-or-more) + possible newlines\n",
    "    [^\\s\\p{L}\\p{N}]+[\\r\\n]*\n",
    "\n",
    "  | # — whitespace at very end of string\n",
    "    \\s+$\n",
    "\n",
    "  | # — standalone newlines\n",
    "    \\s*[\\r\\n]\n",
    "\n",
    "  | # — whitespace before non-space\n",
    "    \\s+(?!\\S)\n",
    "\n",
    "  | # — single spaces\n",
    "    \\s\n",
    "\"\"\"\n",
    "\n",
    "quraan_pattern = compress_regex(quraan_pattern)\n",
    "\n",
    "# 3) do the split\n",
    "tokens = re.findall(re.compile(quraan_pattern), text)\n",
    "\n",
    "ayah, tokens"
   ],
   "id": "527ca09fd45a39cb",
   "outputs": [
    {
     "data": {
      "text/plain": [
       "('بِسْمِ ٱللَّهِ ٱلرَّحْمَٰنِ ٱلرَّحِيمِ يَٰٓأَيُّهَا ٱلنَّاسُ ٱتَّقُوا۟ رَبَّكُمُ ٱلَّذِى خَلَقَكُم مِّن نَّفْسٍۢ وَٰحِدَةٍۢ وَخَلَقَ مِنْهَا زَوْجَهَا وَبَثَّ مِنْهُمَا رِجَالًۭا كَثِيرًۭا وَنِسَآءًۭ ۚ وَٱتَّقُوا۟ ٱللَّهَ ٱلَّذِى تَسَآءَلُونَ بِهِۦ وَٱلْأَرْحَامَ ۚ إِنَّ ٱللَّهَ كَانَ عَلَيْكُمْ رَقِيبًۭا',\n",
       " ['بِسْمِ',\n",
       "  ' ٱللَّهِ',\n",
       "  ' ٱلرَّحْمَٰنِ',\n",
       "  ' ٱلرَّحِيمِ',\n",
       "  ' يَٰٓأَيُّهَا',\n",
       "  ' ٱلنَّاسُ',\n",
       "  ' ٱتَّقُوا',\n",
       "  ' رَبَّكُمُ',\n",
       "  ' ٱلَّذِى',\n",
       "  ' خَلَقَكُم',\n",
       "  ' مِّن',\n",
       "  ' نَّفْسٍ',\n",
       "  ' وَٰحِدَةٍ',\n",
       "  ' وَخَلَقَ',\n",
       "  ' مِنْهَا',\n",
       "  ' زَوْجَهَا',\n",
       "  ' وَبَثَّ',\n",
       "  ' مِنْهُمَا',\n",
       "  ' رِجَالًا',\n",
       "  ' كَثِيرًا',\n",
       "  ' وَنِسَآءً',\n",
       "  ' ',\n",
       "  'ۚ',\n",
       "  ' وَٱتَّقُوا',\n",
       "  ' ٱللَّهَ',\n",
       "  ' ٱلَّذِى',\n",
       "  ' تَسَآءَلُونَ',\n",
       "  ' بِهِ',\n",
       "  ' وَٱلْأَرْحَامَ',\n",
       "  ' ',\n",
       "  'ۚ',\n",
       "  ' إِنَّ',\n",
       "  ' ٱللَّهَ',\n",
       "  ' كَانَ',\n",
       "  ' عَلَيْكُمْ',\n",
       "  ' رَقِيبًا'])"
      ]
     },
     "execution_count": 5,
     "metadata": {},
     "output_type": "execute_result"
    }
   ],
   "execution_count": 5
  },
  {
   "metadata": {},
   "cell_type": "markdown",
   "source": "## Prepare Training Corpus",
   "id": "4191990f3240bfee"
  },
  {
   "metadata": {
    "ExecuteTime": {
     "end_time": "2025-05-12T09:37:12.894754Z",
     "start_time": "2025-05-12T09:37:12.683078Z"
    }
   },
   "cell_type": "code",
   "source": [
    "# no need to encode Ayat split and end of surah in the vocab.\n",
    "raw_quraan = get_raw_quraan(surahs,\n",
    "                            ayat_split_token=\" \",\n",
    "                            surah_split_token=\"\")"
   ],
   "id": "8f152e39df0bb72f",
   "outputs": [],
   "execution_count": 6
  },
  {
   "metadata": {
    "ExecuteTime": {
     "end_time": "2025-05-12T09:37:14.883801Z",
     "start_time": "2025-05-12T09:37:14.862795Z"
    }
   },
   "cell_type": "code",
   "source": "len(raw_quraan), raw_quraan[:1000]",
   "id": "59ea1e210122381d",
   "outputs": [
    {
     "data": {
      "text/plain": [
       "(709683,\n",
       " 'سُورَةُ ٱلْفَاتِحَةِ: بِسْمِ ٱللَّهِ ٱلرَّحْمَٰنِ ٱلرَّحِيمِ ٱلْحَمْدُ لِلَّهِ رَبِّ ٱلْعَٰلَمِينَ ٱلرَّحْمَٰنِ ٱلرَّحِيمِ مَٰلِكِ يَوْمِ ٱلدِّينِ إِيَّاكَ نَعْبُدُ وَإِيَّاكَ نَسْتَعِينُ ٱهْدِنَا ٱلصِّرَٰطَ ٱلْمُسْتَقِيمَ صِرَٰطَ ٱلَّذِينَ أَنْعَمْتَ عَلَيْهِمْ غَيْرِ ٱلْمَغْضُوبِ عَلَيْهِمْ وَلَا ٱلضَّآلِّينَ سُورَةُ البَقَرَةِ: بِسْمِ ٱللَّهِ ٱلرَّحْمَٰنِ ٱلرَّحِيمِ الٓمٓ ذَٰلِكَ ٱلْكِتَٰبُ لَا رَيْبَ ۛ فِيهِ ۛ هُدًى لِّلْمُتَّقِينَ ٱلَّذِينَ يُؤْمِنُونَ بِٱلْغَيْبِ وَيُقِيمُونَ ٱلصَّلَوٰةَ وَمِمَّا رَزَقْنَٰهُمْ يُنفِقُونَ وَٱلَّذِينَ يُؤْمِنُونَ بِمَآ أُنزِلَ إِلَيْكَ وَمَآ أُنزِلَ مِن قَبْلِكَ وَبِٱلْءَاخِرَةِ هُمْ يُوقِنُونَ أُولَٰٓئِكَ عَلَىٰ هُدًى مِّن رَّبِّهِمْ ۖ وَأُولَٰٓئِكَ هُمُ ٱلْمُفْلِحُونَ إِنَّ ٱلَّذِينَ كَفَرُوا سَوَآءٌ عَلَيْهِمْ ءَأَنذَرْتَهُمْ أَمْ لَمْ تُنذِرْهُمْ لَا يُؤْمِنُونَ خَتَمَ ٱللَّهُ عَلَىٰ قُلُوبِهِمْ وَعَلَىٰ سَمْعِهِمْ ۖ وَعَلَىٰٓ أَبْصَٰرِهِمْ غِشَٰوَةٌ ۖ وَلَهُمْ عَذَابٌ عَظِيمٌ وَمِنَ ٱلنَّاسِ مَن يَقُولُ ءَامَنَّا بِٱللَّهِ وَبِٱلْيَوْمِ ٱل')"
      ]
     },
     "execution_count": 7,
     "metadata": {},
     "output_type": "execute_result"
    }
   ],
   "execution_count": 7
  },
  {
   "metadata": {},
   "cell_type": "markdown",
   "source": "## Train Tokenizer",
   "id": "94a5ed5f4b1d5510"
  },
  {
   "metadata": {
    "ExecuteTime": {
     "end_time": "2025-05-12T09:37:17.008494Z",
     "start_time": "2025-05-12T09:37:16.785793Z"
    }
   },
   "cell_type": "code",
   "source": [
    "GPT4_N_TOKENS = 100256\n",
    "END_SURAH_TOKEN = \"<|endoftext|>\"\n",
    "tokenizer_file_name = \"artifacts/quraan_tokenizer.bpe\"\n",
    "\n",
    "if os.path.isfile(tokenizer_file_name):\n",
    "    quraan_tokenizer = BPETokenizerV3.load(tokenizer_file_name)\n",
    "else:\n",
    "    quraan_tokenizer = BPETokenizerV3(vocab_size=GPT4_N_TOKENS, pattern=quraan_pattern)\n",
    "    quraan_tokenizer.fit(raw_quraan, special_tokens=[END_SURAH_TOKEN])\n",
    "    quraan_tokenizer.save(tokenizer_file_name)"
   ],
   "id": "802cf72dce03c04e",
   "outputs": [],
   "execution_count": 8
  },
  {
   "metadata": {
    "ExecuteTime": {
     "end_time": "2025-05-12T09:37:17.398775Z",
     "start_time": "2025-05-12T09:37:17.379780Z"
    }
   },
   "cell_type": "code",
   "source": "len(quraan_tokenizer)  # tokenizer converged earlier than GPT4_N_TOKENS",
   "id": "3d689e2c934ee32b",
   "outputs": [
    {
     "data": {
      "text/plain": [
       "32826"
      ]
     },
     "execution_count": 9,
     "metadata": {},
     "output_type": "execute_result"
    }
   ],
   "execution_count": 9
  },
  {
   "metadata": {
    "ExecuteTime": {
     "end_time": "2025-05-12T09:37:18.812755Z",
     "start_time": "2025-05-12T09:37:18.778755Z"
    }
   },
   "cell_type": "code",
   "source": "quraan_tokenizer.encode(\"بِسْمِ ٱللَّهِ ٱلرَّحْمَٰنِ ٱلرَّحِيمِ يَٰٓأَيُّهَا ٱلنَّاسُ ٱتَّقُوا۟ رَبَّكُمُ ٱلَّذِى خَلَقَكُم مِّن نَّفْسٍۢ وَٰحِدَةٍۢ وَخَلَقَ مِنْهَا زَوْجَهَا وَبَثَّ مِنْهُمَا رِجَالًۭا كَثِيرًۭا وَنِسَآءًۭ ۚ وَٱتَّقُوا۟ ٱللَّهَ ٱلَّذِى تَسَآءَلُونَ بِهِۦ وَٱلْأَرْحَامَ ۚ إِنَّ ٱللَّهَ\", allowed_special=True)",
   "id": "b889bdba4b91d3c",
   "outputs": [
    {
     "data": {
      "text/plain": [
       "[216,\n",
       " 168,\n",
       " 8751,\n",
       " 388,\n",
       " 841,\n",
       " 892,\n",
       " 816,\n",
       " 1586,\n",
       " 3198,\n",
       " 219,\n",
       " 159,\n",
       " 6057,\n",
       " 660,\n",
       " 4638,\n",
       " 384,\n",
       " 5390,\n",
       " 219,\n",
       " 162,\n",
       " 5666,\n",
       " 219,\n",
       " 162,\n",
       " 6438,\n",
       " 1316,\n",
       " 9038,\n",
       " 8615,\n",
       " 7100,\n",
       " 2243,\n",
       " 366,\n",
       " 300,\n",
       " 219,\n",
       " 173,\n",
       " 284,\n",
       " 3728,\n",
       " 300,\n",
       " 219,\n",
       " 173,\n",
       " 284,\n",
       " 11630,\n",
       " 219,\n",
       " 173,\n",
       " 32,\n",
       " 219,\n",
       " 154,\n",
       " 1692,\n",
       " 219,\n",
       " 159,\n",
       " 449,\n",
       " 660,\n",
       " 17553,\n",
       " 581,\n",
       " 219,\n",
       " 166,\n",
       " 17556,\n",
       " 32,\n",
       " 219,\n",
       " 154,\n",
       " 440,\n",
       " 449]"
      ]
     },
     "execution_count": 10,
     "metadata": {},
     "output_type": "execute_result"
    }
   ],
   "execution_count": 10
  },
  {
   "metadata": {},
   "cell_type": "markdown",
   "source": [
    "# Dataloader\n",
    "\n",
    "When encoding for training, we need to tell the LLM model to differentiate between Ayat and Surahs, that is why we need to provide a special tokens to split between different ayat and surahs.\n",
    "\n",
    "- Ayat split token: ۝\n",
    "- Surah split token: <|endoftext|>"
   ],
   "id": "35a39f660eb29b2f"
  },
  {
   "metadata": {
    "ExecuteTime": {
     "end_time": "2025-05-12T09:37:21.003548Z",
     "start_time": "2025-05-12T09:37:20.747147Z"
    }
   },
   "cell_type": "code",
   "source": [
    "raw_quraan = get_raw_quraan(surahs)\n",
    "print(raw_quraan[:1200])"
   ],
   "id": "85329b603ebe02d8",
   "outputs": [
    {
     "name": "stdout",
     "output_type": "stream",
     "text": [
      "سُورَةُ ٱلْفَاتِحَةِ: بِسْمِ ٱللَّهِ ٱلرَّحْمَٰنِ ٱلرَّحِيمِ ۝ ٱلْحَمْدُ لِلَّهِ رَبِّ ٱلْعَٰلَمِينَ ۝ ٱلرَّحْمَٰنِ ٱلرَّحِيمِ ۝ مَٰلِكِ يَوْمِ ٱلدِّينِ ۝ إِيَّاكَ نَعْبُدُ وَإِيَّاكَ نَسْتَعِينُ ۝ ٱهْدِنَا ٱلصِّرَٰطَ ٱلْمُسْتَقِيمَ ۝ صِرَٰطَ ٱلَّذِينَ أَنْعَمْتَ عَلَيْهِمْ غَيْرِ ٱلْمَغْضُوبِ عَلَيْهِمْ وَلَا ٱلضَّآلِّينَ ۝  <|endoftext|> سُورَةُ البَقَرَةِ: بِسْمِ ٱللَّهِ ٱلرَّحْمَٰنِ ٱلرَّحِيمِ الٓمٓ ۝ ذَٰلِكَ ٱلْكِتَٰبُ لَا رَيْبَ ۛ فِيهِ ۛ هُدًى لِّلْمُتَّقِينَ ۝ ٱلَّذِينَ يُؤْمِنُونَ بِٱلْغَيْبِ وَيُقِيمُونَ ٱلصَّلَوٰةَ وَمِمَّا رَزَقْنَٰهُمْ يُنفِقُونَ ۝ وَٱلَّذِينَ يُؤْمِنُونَ بِمَآ أُنزِلَ إِلَيْكَ وَمَآ أُنزِلَ مِن قَبْلِكَ وَبِٱلْءَاخِرَةِ هُمْ يُوقِنُونَ ۝ أُولَٰٓئِكَ عَلَىٰ هُدًى مِّن رَّبِّهِمْ ۖ وَأُولَٰٓئِكَ هُمُ ٱلْمُفْلِحُونَ ۝ إِنَّ ٱلَّذِينَ كَفَرُوا سَوَآءٌ عَلَيْهِمْ ءَأَنذَرْتَهُمْ أَمْ لَمْ تُنذِرْهُمْ لَا يُؤْمِنُونَ ۝ خَتَمَ ٱللَّهُ عَلَىٰ قُلُوبِهِمْ وَعَلَىٰ سَمْعِهِمْ ۖ وَعَلَىٰٓ أَبْصَٰرِهِمْ غِشَٰوَةٌ ۖ وَلَهُمْ عَذَابٌ عَظِيمٌ ۝ وَمِنَ ٱلنَّاسِ مَن يَقُولُ ءَامَنَّا بِٱللَّهِ وَبِٱلْيَوْمِ ٱلْءَاخِرِ وَمَا هُم بِمُؤْمِنِينَ ۝ يُخَٰدِعُونَ ٱللَّهَ وَٱلَّذِينَ ءَامَنُوا وَمَا يَخْدَعُونَ إِلَّآ أَنفُسَهُمْ وَمَا يَشْعُرُونَ ۝ فِى قُلُوبِهِم مَّرَض\n"
     ]
    }
   ],
   "execution_count": 11
  },
  {
   "metadata": {
    "ExecuteTime": {
     "end_time": "2025-05-12T09:37:30.927186Z",
     "start_time": "2025-05-12T09:37:22.416719Z"
    }
   },
   "cell_type": "code",
   "source": [
    "import torch\n",
    "from torch.utils.data import Dataset, DataLoader\n",
    "\n",
    "\n",
    "class QuraanDataset(Dataset):\n",
    "    \"\"\"Torch Dataset that converts the quraan into input and target tokens\"\"\"\n",
    "\n",
    "    def __init__(self, quraan, tokenizer, max_length, stride):\n",
    "        self.input_ids = []\n",
    "        self.target_ids = []\n",
    "\n",
    "        token_ids = tokenizer.encode(quraan, allowed_special=True)\n",
    "\n",
    "        for i in range(0, len(token_ids) - max_length, stride):\n",
    "            input_chunk = token_ids[i:i+max_length]\n",
    "            target_chunk = token_ids[i+1:i+max_length+1]\n",
    "            self.input_ids.append(torch.tensor(input_chunk))\n",
    "            self.target_ids.append(torch.tensor(target_chunk))\n",
    "\n",
    "    def __len__(self):\n",
    "        return len(self.input_ids)\n",
    "\n",
    "    def __getitem__(self, item):\n",
    "        return self.input_ids[item], self.target_ids[item]"
   ],
   "id": "1a372b376925932e",
   "outputs": [],
   "execution_count": 12
  },
  {
   "metadata": {
    "ExecuteTime": {
     "end_time": "2025-05-12T09:37:31.266295Z",
     "start_time": "2025-05-12T09:37:31.246987Z"
    }
   },
   "cell_type": "code",
   "source": [
    "def create_dataloader(data, tokenizer, max_length=8, stride=10, **kwargs):\n",
    "    \"\"\"create a Quraan torch dataloader\"\"\"\n",
    "    train_ds = QuraanDataset(data, tokenizer, max_length, stride)\n",
    "    return DataLoader(train_ds, **kwargs)"
   ],
   "id": "1ced09d0f1ae82ef",
   "outputs": [],
   "execution_count": 13
  },
  {
   "metadata": {
    "ExecuteTime": {
     "end_time": "2025-05-12T09:37:58.476275Z",
     "start_time": "2025-05-12T09:37:33.174494Z"
    }
   },
   "cell_type": "code",
   "source": [
    "train_dl = create_dataloader(raw_quraan, quraan_tokenizer, max_length=8, stride=1,\n",
    "                             batch_size=4, shuffle=False, drop_last=True, num_workers=0)\n",
    "\n",
    "for i, (x, y) in enumerate(train_dl):\n",
    "    for i_batch, (x_item, y_item) in enumerate(zip(x, y)):\n",
    "        print(f\"\\t{i_batch}: \", quraan_tokenizer.decode(x_item.tolist()), \"====>\", quraan_tokenizer.decode(y_item.tolist()))\n",
    "    break  # just not to spam the output"
   ],
   "id": "a6e016e3fbcace73",
   "outputs": [
    {
     "name": "stdout",
     "output_type": "stream",
     "text": [
      "\t0:  سُورَةُ ٱلْفَاتِحَةِ: بِسْمِ ٱللَّهِ ٱلرَّحْمَٰنِ ٱلرَّحِيمِ  ====>  ٱلْفَاتِحَةِ: بِسْمِ ٱللَّهِ ٱلرَّحْمَٰنِ ٱلرَّحِيمِ �\n",
      "\t1:   ٱلْفَاتِحَةِ: بِسْمِ ٱللَّهِ ٱلرَّحْمَٰنِ ٱلرَّحِيمِ � ====> : بِسْمِ ٱللَّهِ ٱلرَّحْمَٰنِ ٱلرَّحِيمِ ۝\n",
      "\t2:  : بِسْمِ ٱللَّهِ ٱلرَّحْمَٰنِ ٱلرَّحِيمِ ۝ ====>  بِسْمِ ٱللَّهِ ٱلرَّحْمَٰنِ ٱلرَّحِيمِ ۝ ٱلْحَمْدُ\n",
      "\t3:   بِسْمِ ٱللَّهِ ٱلرَّحْمَٰنِ ٱلرَّحِيمِ ۝ ٱلْحَمْدُ ====>  ٱللَّهِ ٱلرَّحْمَٰنِ ٱلرَّحِيمِ ۝ ٱلْحَمْدُ لِلَّهِ\n"
     ]
    }
   ],
   "execution_count": 14
  }
 ],
 "metadata": {
  "kernelspec": {
   "display_name": "Python 3",
   "language": "python",
   "name": "python3"
  },
  "language_info": {
   "codemirror_mode": {
    "name": "ipython",
    "version": 2
   },
   "file_extension": ".py",
   "mimetype": "text/x-python",
   "name": "python",
   "nbconvert_exporter": "python",
   "pygments_lexer": "ipython2",
   "version": "2.7.6"
  }
 },
 "nbformat": 4,
 "nbformat_minor": 5
}
